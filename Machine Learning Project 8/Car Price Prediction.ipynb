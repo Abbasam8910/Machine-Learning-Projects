{
 "cells": [
  {
   "cell_type": "markdown",
   "id": "92280017",
   "metadata": {},
   "source": [
    "# Importing Requried Dependencies"
   ]
  },
  {
   "cell_type": "code",
   "execution_count": 1,
   "id": "163032f7",
   "metadata": {},
   "outputs": [],
   "source": [
    "import pandas as pd"
   ]
  },
  {
   "cell_type": "markdown",
   "id": "b7fe316b",
   "metadata": {},
   "source": [
    "# Dataset Import"
   ]
  },
  {
   "cell_type": "code",
   "execution_count": 6,
   "id": "50b3bfe9",
   "metadata": {},
   "outputs": [],
   "source": [
    "car_data = pd.read_csv('car data.csv')"
   ]
  },
  {
   "cell_type": "code",
   "execution_count": null,
   "id": "2cd2b991",
   "metadata": {},
   "outputs": [],
   "source": []
  }
 ],
 "metadata": {
  "kernelspec": {
   "display_name": ".venv",
   "language": "python",
   "name": "python3"
  },
  "language_info": {
   "codemirror_mode": {
    "name": "ipython",
    "version": 3
   },
   "file_extension": ".py",
   "mimetype": "text/x-python",
   "name": "python",
   "nbconvert_exporter": "python",
   "pygments_lexer": "ipython3",
   "version": "3.12.4"
  }
 },
 "nbformat": 4,
 "nbformat_minor": 5
}
