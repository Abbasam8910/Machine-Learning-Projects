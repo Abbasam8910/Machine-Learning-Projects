{
 "cells": [
  {
   "cell_type": "markdown",
   "id": "b4b8e143",
   "metadata": {},
   "source": [
    "# Sonar Rock Vs Mine Prediction | Machine Learning Project"
   ]
  },
  {
   "cell_type": "markdown",
   "id": "0953bdb3",
   "metadata": {},
   "source": [
    "**Overview**\n",
    "\n",
    "The goal is to classify underwater objects detected by sonar as either rocks or mines. The process involves analyzing sonar signals reflected from these objects to distinguish between them"
   ]
  },
  {
   "cell_type": "markdown",
   "id": "5146907d",
   "metadata": {},
   "source": [
    "**Workflow**\n",
    "\n",
    "1. Collect Sonar Data\n",
    "2. Data Pre-Processing\n",
    "3. Splitting into Train Test Data\n",
    "4. Logistic Regression Model ( Binary Classification Problem ) - Supervised Learning Algorithm\n",
    "5. Trained Logistic Regression Model \n",
    "6. New Data Give as an input to our Model it will predict Rock (R)  or Mine (M)"
   ]
  },
  {
   "cell_type": "markdown",
   "id": "547535b8",
   "metadata": {},
   "source": [
    "# Importing Requried Dependencies"
   ]
  },
  {
   "cell_type": "code",
   "execution_count": 1,
   "id": "b328b9b2",
   "metadata": {},
   "outputs": [
    {
     "ename": "ModuleNotFoundError",
     "evalue": "No module named 'pandas'",
     "output_type": "error",
     "traceback": [
      "\u001b[31m---------------------------------------------------------------------------\u001b[39m",
      "\u001b[31mModuleNotFoundError\u001b[39m                       Traceback (most recent call last)",
      "\u001b[36mCell\u001b[39m\u001b[36m \u001b[39m\u001b[32mIn[1]\u001b[39m\u001b[32m, line 1\u001b[39m\n\u001b[32m----> \u001b[39m\u001b[32m1\u001b[39m \u001b[38;5;28;01mimport\u001b[39;00m\u001b[38;5;250m \u001b[39m\u001b[34;01mpandas\u001b[39;00m\u001b[38;5;250m \u001b[39m\u001b[38;5;28;01mas\u001b[39;00m\u001b[38;5;250m \u001b[39m\u001b[34;01mpd\u001b[39;00m\n\u001b[32m      2\u001b[39m \u001b[38;5;28;01mimport\u001b[39;00m\u001b[38;5;250m \u001b[39m\u001b[34;01mnumpy\u001b[39;00m\u001b[38;5;250m \u001b[39m\u001b[38;5;28;01mas\u001b[39;00m\u001b[38;5;250m \u001b[39m\u001b[34;01mnp\u001b[39;00m\n\u001b[32m      3\u001b[39m \u001b[38;5;28;01mfrom\u001b[39;00m\u001b[38;5;250m \u001b[39m\u001b[34;01msklearn\u001b[39;00m\u001b[34;01m.\u001b[39;00m\u001b[34;01mlinear_model\u001b[39;00m\u001b[38;5;250m \u001b[39m\u001b[38;5;28;01mimport\u001b[39;00m LogisticRegression \n",
      "\u001b[31mModuleNotFoundError\u001b[39m: No module named 'pandas'"
     ]
    }
   ],
   "source": [
    "import pandas as pd\n",
    "import numpy as np\n",
    "from sklearn.linear_model import LogisticRegression \n",
    "from sklearn.model_selection import train_test_split\n",
    "from sklearn.metrics import accuracy_score\n"
   ]
  },
  {
   "cell_type": "code",
   "execution_count": null,
   "id": "cb54164a",
   "metadata": {},
   "outputs": [],
   "source": []
  }
 ],
 "metadata": {
  "kernelspec": {
   "display_name": ".venv",
   "language": "python",
   "name": "python3"
  },
  "language_info": {
   "codemirror_mode": {
    "name": "ipython",
    "version": 3
   },
   "file_extension": ".py",
   "mimetype": "text/x-python",
   "name": "python",
   "nbconvert_exporter": "python",
   "pygments_lexer": "ipython3",
   "version": "3.12.4"
  }
 },
 "nbformat": 4,
 "nbformat_minor": 5
}
