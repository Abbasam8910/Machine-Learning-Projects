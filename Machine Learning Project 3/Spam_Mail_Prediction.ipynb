{
 "cells": [
  {
   "cell_type": "markdown",
   "id": "dbcf6128",
   "metadata": {},
   "source": [
    "# Importing Required Dependencies"
   ]
  },
  {
   "cell_type": "code",
   "execution_count": 2,
   "id": "160c3f6c",
   "metadata": {},
   "outputs": [],
   "source": [
    "import numpy as np\n",
    "import pandas as pd\n",
    "from sklearn.preprocessing import StandardScaler\n",
    "from sklearn.model_selection import train_test_split\n",
    "from sklearn.metrics import accuracy_score\n",
    "from sklearn.feature_extraction.text import TfidfVectorizer\n",
    "from sklearn.linear_model import LogisticRegression\n"
   ]
  },
  {
   "cell_type": "markdown",
   "id": "875fc569",
   "metadata": {},
   "source": [
    "# Data Collection and Pre-Processing"
   ]
  },
  {
   "cell_type": "code",
   "execution_count": null,
   "id": "a687a8c3",
   "metadata": {},
   "outputs": [],
   "source": [
    "spam_mail_data = pd.read_csv('./Dataset')"
   ]
  }
 ],
 "metadata": {
  "kernelspec": {
   "display_name": ".venv",
   "language": "python",
   "name": "python3"
  },
  "language_info": {
   "codemirror_mode": {
    "name": "ipython",
    "version": 3
   },
   "file_extension": ".py",
   "mimetype": "text/x-python",
   "name": "python",
   "nbconvert_exporter": "python",
   "pygments_lexer": "ipython3",
   "version": "3.12.4"
  }
 },
 "nbformat": 4,
 "nbformat_minor": 5
}
